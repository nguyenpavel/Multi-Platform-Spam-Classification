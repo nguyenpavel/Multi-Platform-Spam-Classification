{
  "cells": [
    {
      "cell_type": "markdown",
      "metadata": {
        "id": "D1sc1iKc5hXB"
      },
      "source": [
        "# Importing the Necessary Libraries"
      ]
    },
    {
      "cell_type": "code",
      "execution_count": null,
      "metadata": {
        "id": "KbgVWikSs2NM"
      },
      "outputs": [],
      "source": [
        "# Install libraries in one line\n",
        "!pip install nltk wordcloud -q\n",
        "\n",
        "# Importing necessary libraries\n",
        "import nltk\n",
        "import pandas as pd\n",
        "import numpy as np\n",
        "import matplotlib.pyplot as plt\n",
        "import seaborn as sns\n",
        "import warnings\n",
        "import string\n",
        "import requests\n",
        "import zipfile\n",
        "import os\n",
        "import io\n",
        "import time\n",
        "\n",
        "from sklearn.metrics import accuracy_score, precision_score, recall_score, f1_score\n",
        "from joblib import dump\n",
        "from sklearn.metrics import precision_recall_curve, PrecisionRecallDisplay, average_precision_score\n",
        "from sklearn.metrics import roc_curve, RocCurveDisplay, auc\n",
        "from sklearn.metrics import confusion_matrix, ConfusionMatrixDisplay\n",
        "from sklearn.model_selection import StratifiedShuffleSplit\n",
        "from wordcloud import WordCloud  # Note the correction in import statement\n",
        "from sklearn.feature_extraction.text import CountVectorizer, TfidfVectorizer\n",
        "from sklearn.naive_bayes import MultinomialNB\n",
        "from sklearn.model_selection import train_test_split\n",
        "from sklearn.metrics import accuracy_score, classification_report, confusion_matrix\n",
        "from sklearn.svm import SVC\n",
        "from nltk.corpus import stopwords\n",
        "from nltk.tokenize import word_tokenize\n",
        "from nltk.stem import WordNetLemmatizer\n",
        "from nltk import pos_tag\n",
        "from nltk.corpus import wordnet\n",
        "from urllib.request import urlretrieve\n",
        "from joblib import load\n",
        "\n",
        "# Suppress warnings to keep the output clean\n",
        "warnings.filterwarnings('ignore')\n",
        "\n",
        "nltk_datasets = ['stopwords', 'wordnet', 'punkt', 'averaged_perceptron_tagger', 'omw-1.4']\n",
        "for dataset in nltk_datasets:\n",
        "    nltk.download(dataset, quiet=True)"
      ]
    },
    {
      "cell_type": "markdown",
      "metadata": {
        "id": "WxSPdNOfL34a"
      },
      "source": [
        "# Importing the Training Datasets"
      ]
    },
    {
      "cell_type": "code",
      "source": [
        "# URLs for the datasets\n",
        "yt_data = 'https://huggingface.co/datasets/vsak/YouTube_spam_translation/raw/main/youtube_translate.csv'\n",
        "email_data = 'https://github.com/MWiechmann/enron_spam_data/raw/master/enron_spam_data.zip'\n",
        "sms_data = 'https://archive.ics.uci.edu/ml/machine-learning-databases/00228/smsspamcollection.zip'\n",
        "\n",
        "def download_and_extract_zip(url, extract_to):\n",
        "    response = requests.get(url)\n",
        "    if response.status_code == 200:\n",
        "        with zipfile.ZipFile(io.BytesIO(response.content)) as zip_ref:\n",
        "            zip_ref.extractall(extract_to)\n",
        "        print(f\"Data extracted successfully to {extract_to}.\")\n",
        "    else:\n",
        "        print(f\"Failed to download the file from {url}. Status code: {response.status_code}\")\n",
        "\n",
        "# Function to load and process CSV data\n",
        "def load_and_process_csv(path, columns, label_transformation=None, source_label=None, sep=',', header='infer'):\n",
        "    df = pd.read_csv(path, sep=sep, header=header, usecols=columns)\n",
        "    if label_transformation:\n",
        "        df[columns[1]] = df[columns[1]].map(label_transformation)\n",
        "    df.columns = ['text', 'label']\n",
        "    if source_label:\n",
        "        df['source'] = source_label\n",
        "    return df\n",
        "\n",
        "# Import and process YouTube reviews dataset\n",
        "df1 = pd.read_csv(yt_data)\n",
        "df1 = df1[['Message', 'Category']]\n",
        "df1.columns = ['text', 'label']\n",
        "df1['source'] = 'social media'\n",
        "\n",
        "# Process Email Data\n",
        "download_and_extract_zip(email_data, \"enron_spam_data\")\n",
        "df2 = load_and_process_csv('enron_spam_data/enron_spam_data.csv', ['Message', 'Spam/Ham'], {'spam': 1, 'ham': 0}, 'email')\n",
        "\n",
        "# Process SMS Data\n",
        "download_and_extract_zip(sms_data, \"sms_data\")\n",
        "extracted_file_path = os.path.join(\"sms_data\", \"SMSSpamCollection\")\n",
        "df3 = pd.read_csv(extracted_file_path, sep='\\t', header=None, names=['label', 'text'])\n",
        "df3['label'] = df3['label'].map({'spam': 1, 'ham': 0})\n",
        "df3['source'] = 'sms'\n",
        "\n",
        "# Combine all DataFrames\n",
        "df_unseen = pd.concat([df1, df3])\n",
        "#df = df1\n",
        "\n",
        "print(df2.head())\n",
        "print(df2.info())\n",
        "\n",
        "source_counts = df2['source'].value_counts()\n",
        "print(source_counts)"
      ],
      "metadata": {
        "colab": {
          "base_uri": "https://localhost:8080/"
        },
        "id": "HsxUjd8iDOg4",
        "outputId": "5935da2d-6fe0-498a-9f63-a83b3d852c87"
      },
      "execution_count": null,
      "outputs": [
        {
          "output_type": "stream",
          "name": "stdout",
          "text": [
            "Data extracted successfully to enron_spam_data.\n",
            "Data extracted successfully to sms_data.\n",
            "                                                text  label source\n",
            "0                                                NaN      0  email\n",
            "1  gary , production from the high island larger ...      0  email\n",
            "2             - calpine daily gas nomination 1 . doc      0  email\n",
            "3  fyi - see note below - already done .\\nstella\\...      0  email\n",
            "4  fyi .\\n- - - - - - - - - - - - - - - - - - - -...      0  email\n",
            "<class 'pandas.core.frame.DataFrame'>\n",
            "RangeIndex: 33716 entries, 0 to 33715\n",
            "Data columns (total 3 columns):\n",
            " #   Column  Non-Null Count  Dtype \n",
            "---  ------  --------------  ----- \n",
            " 0   text    33345 non-null  object\n",
            " 1   label   33716 non-null  int64 \n",
            " 2   source  33716 non-null  object\n",
            "dtypes: int64(1), object(2)\n",
            "memory usage: 790.3+ KB\n",
            "None\n",
            "email    33716\n",
            "Name: source, dtype: int64\n"
          ]
        }
      ]
    },
    {
      "cell_type": "markdown",
      "metadata": {
        "id": "2IFYh6bmODxv"
      },
      "source": [
        "# Evaluation of the Dataset"
      ]
    },
    {
      "cell_type": "code",
      "execution_count": null,
      "metadata": {
        "colab": {
          "base_uri": "https://localhost:8080/"
        },
        "id": "6PnY8SdC5ajr",
        "outputId": "66a2e8d9-81ef-4ade-9b60-415bcbeddc76"
      },
      "outputs": [
        {
          "output_type": "execute_result",
          "data": {
            "text/plain": [
              "text      371\n",
              "label       0\n",
              "source      0\n",
              "dtype: int64"
            ]
          },
          "metadata": {},
          "execution_count": 3
        }
      ],
      "source": [
        "# Check the dataset for missing values\n",
        "df2.isna().sum()"
      ]
    },
    {
      "cell_type": "code",
      "execution_count": null,
      "metadata": {
        "colab": {
          "base_uri": "https://localhost:8080/"
        },
        "id": "T2G383yg2bPe",
        "outputId": "7f659387-caf0-4ea0-c185-a80591fd26d9"
      },
      "outputs": [
        {
          "output_type": "stream",
          "name": "stdout",
          "text": [
            "Merged Dataset Ratios:\n",
            "Not a Spam Email Ratio (i.e., label: 0): 49.07 %\n",
            "Spam Email Ratio (i.e., label: 1): 50.93 %\n"
          ]
        }
      ],
      "source": [
        "# Calculate the percentages of Spam/Ham\n",
        "not_spam_ratio = (len(df2[df2['label'] == 0]) / len(df2)) * 100\n",
        "spam_ratio = (len(df2[df2['label'] == 1]) / len(df2)) * 100\n",
        "\n",
        "# Print the ratios for the consolidated dataset\n",
        "print(\"Merged Dataset Ratios:\")\n",
        "print(f\"Not a Spam Email Ratio (i.e., label: 0): {not_spam_ratio:.2f} %\")\n",
        "print(f\"Spam Email Ratio (i.e., label: 1): {spam_ratio:.2f} %\")"
      ]
    },
    {
      "cell_type": "markdown",
      "metadata": {
        "id": "OgvCd8VNmLrN"
      },
      "source": [
        "# Data Preprocessing & Cleaning"
      ]
    },
    {
      "cell_type": "code",
      "execution_count": null,
      "metadata": {
        "id": "8R4fFG6dFlk4"
      },
      "outputs": [],
      "source": [
        "# Convert all string columns to lowercase\n",
        "for column in df2.select_dtypes(include=[object]).columns:\n",
        "    df2[column] = df2[column].str.lower()\n",
        "for column in df_unseen.select_dtypes(include=[object]).columns:\n",
        "    df_unseen[column] = df_unseen[column].str.lower()"
      ]
    },
    {
      "cell_type": "code",
      "execution_count": null,
      "metadata": {
        "id": "cv7IUpj5GNUv"
      },
      "outputs": [],
      "source": [
        "# Define a function to clean the text data with regex\n",
        "def clean_text_data(df):\n",
        "    df['text'] = df['text'].str.replace(r\"\\b[\\w.-]+@[\\w.-]+\\.\\w{2,4}\\b\", ' emailaddress ', regex=True)\n",
        "    df['text'] = df['text'].str.replace(r\"http\\S+\", ' webaddress ', regex=True)\n",
        "    df['text'] = df['text'].str.replace(r\"\\$\\d+\", ' currencyamount ', regex=True)\n",
        "    df['text'] = df['text'].str.replace(r\"\\d{10}\", ' phonenumber ', regex=True)\n",
        "    df['text'] = df['text'].str.replace(r\"\\d+\", ' number ', regex=True)\n",
        "    df['text'] = df['text'].str.replace(r\"[^\\w\\s]\", '', regex=True)\n",
        "    df['text'] = df['text'].str.replace(r\"\\s+\", ' ', regex=True)\n",
        "    df['text'] = df['text'].str.replace(r\"<[^>]+>\", '', regex=True)\n",
        "    df['text'] = df['text'].str.strip()\n",
        "    return df\n",
        "\n",
        "# Apply the cleaning function\n",
        "df2 = clean_text_data(df2)\n",
        "df_unseen = clean_text_data(df_unseen)"
      ]
    },
    {
      "cell_type": "code",
      "execution_count": null,
      "metadata": {
        "id": "xfIKi4QiG6gw"
      },
      "outputs": [],
      "source": [
        "def remove_stopwords(df, column='text'):\n",
        "\n",
        "    additional_stopwords = {'u', 'ur', '4', '2', 'im', \"don't\", 'doin', 'ure', 'lol', 'pls', 'plz', 'thx', 'tx', 'ty', 'omg', 'idk', 'brb', 'b4', 'k', 'kk', 'gtg', 'tq', 'np', 'wtf', 'btw', 'like', 'just', 'really', 'very', 'so'}\n",
        "    stop_words = set(stopwords.words('english'))\n",
        "    stop_words.update(additional_stopwords)\n",
        "\n",
        "    df2[column] = df2[column].astype(str)\n",
        "\n",
        "    # Remove stopwords from the column\n",
        "    df2[column] = df2[column].apply(lambda x: \" \".join(term for term in x.split() if term not in stop_words))\n",
        "    return df\n",
        "\n",
        "# Apply the cleaning function\n",
        "df2 = remove_stopwords(df2)\n",
        "df_unseen = remove_stopwords(df_unseen)"
      ]
    },
    {
      "cell_type": "markdown",
      "metadata": {
        "id": "uKG9DjLKylBo"
      },
      "source": [
        "# Tokenization, Stopword Removal & Lemmatization"
      ]
    },
    {
      "cell_type": "code",
      "source": [
        "# Function to tokenize text\n",
        "def tokenize_if_string(text):\n",
        "    if isinstance(text, str):\n",
        "        return nltk.word_tokenize(text)\n",
        "    else:\n",
        "        return text\n",
        "\n",
        "df2['text'] = df2['text'].apply(tokenize_if_string)\n",
        "df_unseen['text'] = df_unseen[\"text\"].apply(tokenize_if_string)\n",
        "\n",
        "tokenized_df = df2"
      ],
      "metadata": {
        "id": "if5yAU6BJSS_"
      },
      "execution_count": null,
      "outputs": []
    },
    {
      "cell_type": "code",
      "source": [
        "# Initialize the lemmatizer\n",
        "lemmatizer = WordNetLemmatizer()\n",
        "\n",
        "# Function to lemmatize a list of tokenized words\n",
        "def lemmatize_tokens(tokenized_text):\n",
        "    # Check if the tokenized text is already lemmatized\n",
        "    if all(word == lemmatizer.lemmatize(word) for word in tokenized_text):\n",
        "        return tokenized_text\n",
        "    else:\n",
        "        # If not lemmatized, proceed with lemmatization\n",
        "        lemmatized_text = []\n",
        "        for word, tag in nltk.pos_tag(tokenized_text):\n",
        "            wordnet_tag = {'J': wordnet.ADJ,\n",
        "                           'N': wordnet.NOUN,\n",
        "                           'V': wordnet.VERB,\n",
        "                           'R': wordnet.ADV}.get(tag[0].upper(), wordnet.NOUN)\n",
        "            lemmatized_text.append(lemmatizer.lemmatize(word, wordnet_tag))\n",
        "        return lemmatized_text\n",
        "\n",
        "# Apply lemmatization\n",
        "tokenized_df['text'] = tokenized_df['text'].apply(lemmatize_tokens)\n",
        "df_unseen['text'] = df_unseen['text'].apply(lemmatize_tokens)\n",
        "\n",
        "lemmatized_df = tokenized_df"
      ],
      "metadata": {
        "id": "SZLsbehVTJVf"
      },
      "execution_count": null,
      "outputs": []
    },
    {
      "cell_type": "code",
      "source": [
        "df = lemmatized_df\n",
        "\n",
        "# Create a combined column for stratification\n",
        "df['stratify_col'] = df['label'].astype(str) + '_' + df['source']\n",
        "\n",
        "# Initialize StratifiedShuffleSplit\n",
        "sss = StratifiedShuffleSplit(n_splits=1, test_size=0.2, random_state=42)\n",
        "\n",
        "# First split to separate out the test set\n",
        "for train_index, test_index in sss.split(df, df['stratify_col']):\n",
        "    df_train_test = df.iloc[train_index]\n",
        "    df_test = df.iloc[test_index]\n",
        "\n",
        "# Update stratification column based on remaining data\n",
        "stratify_col_train_test = df_train_test['stratify_col']\n",
        "\n",
        "# Initialize another StratifiedShuffleSplit for splitting the remaining data into train and val\n",
        "sss_train_val = StratifiedShuffleSplit(n_splits=1, test_size=0.25, random_state=42)\n",
        "\n",
        "# Second split to separate out the train and validation sets\n",
        "for train_index, val_index in sss_train_val.split(df_train_test, stratify_col_train_test):\n",
        "    df_train = df_train_test.iloc[train_index]\n",
        "    df_val = df_train_test.iloc[val_index]\n",
        "\n",
        "# Remove stratify column\n",
        "df_train.drop(columns=['stratify_col'], inplace=True)\n",
        "df_test.drop(columns=['stratify_col'], inplace=True)\n",
        "df_val.drop(columns=['stratify_col'], inplace=True)\n",
        "\n",
        "# df.info()\n",
        "# df_train.info()\n",
        "# df_train['label'].value_counts()"
      ],
      "metadata": {
        "id": "Og8Q_eKBf7lV"
      },
      "execution_count": null,
      "outputs": []
    },
    {
      "cell_type": "markdown",
      "metadata": {
        "id": "pG8gY_CZ7fyC"
      },
      "source": [
        "# Training Naive Bayes Model"
      ]
    },
    {
      "cell_type": "code",
      "execution_count": null,
      "metadata": {
        "id": "LPs3TnvAh3ZH",
        "colab": {
          "base_uri": "https://localhost:8080/"
        },
        "outputId": "2eaa42f8-3d83-454f-f126-f0f307e0b1d9"
      },
      "outputs": [
        {
          "output_type": "stream",
          "name": "stdout",
          "text": [
            "Validation Accuracy: 0.9836867862969005\n"
          ]
        }
      ],
      "source": [
        "# Join the lemmatized tokens into strings for vectorization\n",
        "df_train['text'] = df_train['text'].apply(' '.join)\n",
        "df_val['text'] = df_val['text'].apply(' '.join)\n",
        "df_test['text'] = df_test['text'].apply(' '.join)\n",
        "\n",
        "# Record the start time\n",
        "start_time = time.time()\n",
        "\n",
        "# Fit the vectorizer on the training set and transform the training set\n",
        "tfidf_vectorizer = TfidfVectorizer()\n",
        "X_train_tfidf = tfidf_vectorizer.fit_transform(df_train['text'])\n",
        "\n",
        "# Transform the validation set\n",
        "X_val_tfidf = tfidf_vectorizer.transform(df_val['text'])\n",
        "\n",
        "# Transform the test set\n",
        "X_test_tfidf = tfidf_vectorizer.transform(df_test['text'])\n",
        "\n",
        "# Initialize the classifier\n",
        "clf = MultinomialNB()\n",
        "\n",
        "# Train the classifier\n",
        "clf.fit(X_train_tfidf, df_train['label'])\n",
        "\n",
        "# Predict the labels for the validation set\n",
        "val_predictions = clf.predict(X_val_tfidf)\n",
        "\n",
        "# Calculate the accuracy on the validation set\n",
        "val_accuracy = accuracy_score(df_val['label'], val_predictions)\n",
        "\n",
        "print(f'Validation Accuracy: {val_accuracy}')\n",
        "\n",
        "# transform the test set and evaluate the model\n",
        "X_test_tfidf = tfidf_vectorizer.transform(df_test['text'])\n",
        "test_predictions = clf.predict(X_test_tfidf)\n",
        "test_accuracy = accuracy_score(df_test['label'], test_predictions)\n",
        "\n",
        "# Record the end time\n",
        "end_time = time.time()\n",
        "\n",
        "# Calculate the training time\n",
        "training_time = end_time - start_time\n",
        "\n",
        "# Save the model\n",
        "dump(clf, '/content/multinomial_nb_model.joblib')\n",
        "\n",
        "# Save the vectorizer\n",
        "dump(tfidf_vectorizer, '/content/tfidf_vectorizer.joblib')\n",
        "\n",
        "# Save the df_test DataFrame to a CSV file\n",
        "df_test.to_csv('/content/df_test.csv', index=False)"
      ]
    },
    {
      "cell_type": "code",
      "source": [
        "# Load the model and vectorizer\n",
        "clf = load('/content/multinomial_nb_model.joblib')\n",
        "tfidf_vectorizer = load('/content/tfidf_vectorizer.joblib')\n",
        "\n",
        "df_unseen['text'] = df_unseen['text'].apply(lambda x: ' '.join(x) if isinstance(x, list) else x)\n",
        "\n",
        "# Transform the unseen dataset\n",
        "X_unseen_tfidf = tfidf_vectorizer.transform(df_unseen['text'])\n",
        "\n",
        "# Predict the labels for the unseen dataset\n",
        "unseen_predictions = clf.predict(X_unseen_tfidf)\n",
        "\n",
        "# Calculate the performance metrics\n",
        "accuracy = accuracy_score(df_unseen['label'], unseen_predictions)\n",
        "precision = precision_score(df_unseen['label'], unseen_predictions, average='macro')\n",
        "recall = recall_score(df_unseen['label'], unseen_predictions, average='macro')\n",
        "f1 = f1_score(df_unseen['label'], unseen_predictions, average='macro')\n",
        "\n",
        "print(f'Accuracy: {accuracy}')\n",
        "print(f'Precision: {precision}')\n",
        "print(f'Recall: {recall}')\n",
        "print(f'F1 Score: {f1}')"
      ],
      "metadata": {
        "colab": {
          "base_uri": "https://localhost:8080/"
        },
        "id": "UrrQw1rAwoQt",
        "outputId": "02f37112-2484-4d0f-8e8a-c37661893aa4"
      },
      "execution_count": null,
      "outputs": [
        {
          "output_type": "stream",
          "name": "stdout",
          "text": [
            "Accuracy: 0.3896355826520715\n",
            "Precision: 0.5373248881938616\n",
            "Recall: 0.5434517127929475\n",
            "F1 Score: 0.3880270782875608\n"
          ]
        }
      ]
    },
    {
      "cell_type": "code",
      "source": [
        "# Print the training time\n",
        "print(f\"Training time: {training_time:.3f} seconds\")\n",
        "\n",
        "# Calculate the metrics for the validation set\n",
        "val_accuracy = accuracy_score(df_val['label'], val_predictions)\n",
        "val_precision = precision_score(df_val['label'], val_predictions, average='weighted')\n",
        "val_recall = recall_score(df_val['label'], val_predictions, average='weighted')\n",
        "val_f1 = f1_score(df_val['label'], val_predictions, average='weighted')\n",
        "\n",
        "# Print the metrics for the validation set\n",
        "print(f'Validation Accuracy: {val_accuracy}')\n",
        "print(f'Validation Precision: {val_precision}')\n",
        "print(f'Validation Recall: {val_recall}')\n",
        "print(f'Validation F1 Score: {val_f1}')\n",
        "\n",
        "# Calculate the metrics for the test set\n",
        "test_accuracy = accuracy_score(df_test['label'], test_predictions)\n",
        "test_precision = precision_score(df_test['label'], test_predictions, average='weighted')\n",
        "test_recall = recall_score(df_test['label'], test_predictions, average='weighted')\n",
        "test_f1 = f1_score(df_test['label'], test_predictions, average='weighted')\n",
        "\n",
        "# Print the metrics for the test set\n",
        "print(f'Test Accuracy: {test_accuracy}')\n",
        "print(f'Test Precision: {test_precision}')\n",
        "print(f'Test Recall: {test_recall}')\n",
        "print(f'Test F1 Score: {test_f1}')"
      ],
      "metadata": {
        "colab": {
          "base_uri": "https://localhost:8080/"
        },
        "id": "jWQO22snd66I",
        "outputId": "8ada9248-98cd-4493-bce2-91320f5c593a"
      },
      "execution_count": null,
      "outputs": [
        {
          "output_type": "stream",
          "name": "stdout",
          "text": [
            "Training time: 3.968 seconds\n",
            "Validation Accuracy: 0.9836867862969005\n",
            "Validation Precision: 0.9836888569192305\n",
            "Validation Recall: 0.9836867862969005\n",
            "Validation F1 Score: 0.9836870425485676\n",
            "Test Accuracy: 0.9859134045077106\n",
            "Test Precision: 0.9859175695588379\n",
            "Test Recall: 0.9859134045077106\n",
            "Test F1 Score: 0.9859137307423145\n"
          ]
        }
      ]
    },
    {
      "cell_type": "markdown",
      "source": [
        "# Graphs:"
      ],
      "metadata": {
        "id": "AI219B16Nf40"
      }
    },
    {
      "cell_type": "code",
      "source": [
        "true_labels = df_unseen['label']\n",
        "predicted_labels = unseen_predictions\n",
        "\n",
        "# Generate the confusion matrix\n",
        "cm = confusion_matrix(true_labels, predicted_labels)\n",
        "\n",
        "# Plot the confusion matrix using ConfusionMatrixDisplay\n",
        "disp = ConfusionMatrixDisplay(confusion_matrix=cm)\n",
        "disp.plot(cmap=plt.cm.Blues)\n",
        "\n",
        "plt.title('Confusion Matrix')\n",
        "\n",
        "# Save the figure\n",
        "plt.savefig('/content/confusion_matrix.png', dpi=300)\n",
        "\n",
        "# Show the plot\n",
        "plt.show()\n",
        "\n",
        "print(\"The confusion matrix has been saved as 'confusion_matrix.png' with a resolution of 300 DPI.\")"
      ],
      "metadata": {
        "colab": {
          "base_uri": "https://localhost:8080/",
          "height": 489
        },
        "id": "a9W4fA0jzoJ7",
        "outputId": "2c72f09a-7d34-41b7-89c6-d8ff6a264810"
      },
      "execution_count": null,
      "outputs": [
        {
          "output_type": "display_data",
          "data": {
            "text/plain": [
              "<Figure size 640x480 with 2 Axes>"
            ],
            "image/png": "[encoded data removed]"
          },
          "metadata": {}
        },
        {
          "output_type": "stream",
          "name": "stdout",
          "text": [
            "The confusion matrix has been saved as 'confusion_matrix.png' with a resolution of 300 DPI.\n"
          ]
        }
      ]
    },
    {
      "cell_type": "markdown",
      "metadata": {
        "id": "FpyfiZUb5Irj"
      },
      "source": [
        "# Testing"
      ]
    },
    {
      "cell_type": "code",
      "source": [
        "# Basic Spam Message\n",
        "sentence_1 = \"Congratulations! You've won a $1000 gift card. Click here to claim now.\"\n",
        "test_sentence = [sentence_1]\n",
        "test_sentence_tfidf = tfidf_vectorizer.transform(test_sentence)\n",
        "predicted_label = clf.predict(test_sentence_tfidf)\n",
        "print(f\"The sentence is classified as: {'Spam' if predicted_label[0] == 1 else 'Not Spam'}\")"
      ],
      "metadata": {
        "id": "29DxVCSrc4pO",
        "colab": {
          "base_uri": "https://localhost:8080/"
        },
        "outputId": "583aa3f3-de4b-4179-e0c9-0e22f8fd3b09"
      },
      "execution_count": null,
      "outputs": [
        {
          "output_type": "stream",
          "name": "stdout",
          "text": [
            "The sentence is classified as: Spam\n"
          ]
        }
      ]
    },
    {
      "cell_type": "code",
      "source": [
        "# Complex Non-Spam Message\n",
        "sentence_2 = \"Hi team, remember our meeting is rescheduled to 10:00 AM tomorrow. Please prepare your reports accordingly.\"\n",
        "test_sentence = [sentence_2]\n",
        "test_sentence_tfidf = tfidf_vectorizer.transform(test_sentence)\n",
        "predicted_label = clf.predict(test_sentence_tfidf)\n",
        "print(f\"The sentence is classified as: {'Spam' if predicted_label[0] == 1 else 'Not Spam'}\")"
      ],
      "metadata": {
        "id": "R7rWzPmsdHSl",
        "colab": {
          "base_uri": "https://localhost:8080/"
        },
        "outputId": "79950d67-365e-4071-d2ca-7f12c06f41f1"
      },
      "execution_count": null,
      "outputs": [
        {
          "output_type": "stream",
          "name": "stdout",
          "text": [
            "The sentence is classified as: Not Spam\n"
          ]
        }
      ]
    },
    {
      "cell_type": "code",
      "source": [
        "# Spam with Misleading Information\n",
        "sentence_3 = \"Amazing opportunity to work from home and earn up to $5000 per month. No experience needed. DM for details.\"\n",
        "test_sentence = [sentence_3]\n",
        "test_sentence_tfidf = tfidf_vectorizer.transform(test_sentence)\n",
        "predicted_label = clf.predict(test_sentence_tfidf)\n",
        "print(f\"The sentence is classified as: {'Spam' if predicted_label[0] == 1 else 'Not Spam'}\")"
      ],
      "metadata": {
        "id": "PLcTrlQ7dQWd",
        "colab": {
          "base_uri": "https://localhost:8080/"
        },
        "outputId": "22b22246-0cd5-439f-d944-d94f1d26d998"
      },
      "execution_count": null,
      "outputs": [
        {
          "output_type": "stream",
          "name": "stdout",
          "text": [
            "The sentence is classified as: Spam\n"
          ]
        }
      ]
    },
    {
      "cell_type": "code",
      "source": [
        "# Non-Spam with Casual Language\n",
        "sentence_4 = \"Hey! Are we still on for the movie night this Friday? Can't wait to see you all 😊\"\n",
        "test_sentence = [sentence_4]\n",
        "test_sentence_tfidf = tfidf_vectorizer.transform(test_sentence)\n",
        "predicted_label = clf.predict(test_sentence_tfidf)\n",
        "print(f\"The sentence is classified as: {'Spam' if predicted_label[0] == 1 else 'Not Spam'}\")"
      ],
      "metadata": {
        "id": "w6YD2m4IdVtM",
        "colab": {
          "base_uri": "https://localhost:8080/"
        },
        "outputId": "75b9edf2-32f7-483f-caca-199f40da849a"
      },
      "execution_count": null,
      "outputs": [
        {
          "output_type": "stream",
          "name": "stdout",
          "text": [
            "The sentence is classified as: Spam\n"
          ]
        }
      ]
    },
    {
      "cell_type": "code",
      "source": [
        "# Spam with Heavy Emoji Use\n",
        "sentence_5 = \"🔥🔥Hot Deal Just For You!🔥🔥 Buy 1 Get 2 FREE!!! Exclusive offer just for you, click the link NOW!!! ➡️➡️[URL]⬅️⬅️\"\n",
        "test_sentence = [sentence_5]\n",
        "test_sentence_tfidf = tfidf_vectorizer.transform(test_sentence)\n",
        "predicted_label = clf.predict(test_sentence_tfidf)\n",
        "print(f\"The sentence is classified as: {'Spam' if predicted_label[0] == 1 else 'Not Spam'}\")"
      ],
      "metadata": {
        "id": "mC6nB8l0da0C",
        "colab": {
          "base_uri": "https://localhost:8080/"
        },
        "outputId": "c6da02f2-d1ae-4466-e034-8aaa196d5bb5"
      },
      "execution_count": null,
      "outputs": [
        {
          "output_type": "stream",
          "name": "stdout",
          "text": [
            "The sentence is classified as: Spam\n"
          ]
        }
      ]
    },
    {
      "cell_type": "code",
      "source": [
        "# Non-Spam with Technical Content\n",
        "sentence_6 = \"The latest version update includes several bug fixes and performance improvements that enhance the software's security features and user interface.\"\n",
        "test_sentence = [sentence_6]\n",
        "test_sentence_tfidf = tfidf_vectorizer.transform(test_sentence)\n",
        "predicted_label = clf.predict(test_sentence_tfidf)\n",
        "print(f\"The sentence is classified as: {'Spam' if predicted_label[0] == 1 else 'Not Spam'}\")"
      ],
      "metadata": {
        "id": "SBMifKZCdfiR",
        "colab": {
          "base_uri": "https://localhost:8080/"
        },
        "outputId": "2b1ccf2c-c613-4477-f6ec-d68c1db09706"
      },
      "execution_count": null,
      "outputs": [
        {
          "output_type": "stream",
          "name": "stdout",
          "text": [
            "The sentence is classified as: Not Spam\n"
          ]
        }
      ]
    },
    {
      "cell_type": "code",
      "source": [
        "# Spam Mimicking Official Communication\n",
        "sentence_7 = \"Notice: Your bank account has been temporarily suspended due to suspicious activities. Please verify your identity here [URL] to reactivate immediately.\"\n",
        "test_sentence = [sentence_7]\n",
        "test_sentence_tfidf = tfidf_vectorizer.transform(test_sentence)\n",
        "predicted_label = clf.predict(test_sentence_tfidf)\n",
        "print(f\"The sentence is classified as: {'Spam' if predicted_label[0] == 1 else 'Not Spam'}\")"
      ],
      "metadata": {
        "id": "mpBj8IdEdlDG",
        "colab": {
          "base_uri": "https://localhost:8080/"
        },
        "outputId": "5bcd8ff3-c231-4b46-dbc9-866e5d6564e6"
      },
      "execution_count": null,
      "outputs": [
        {
          "output_type": "stream",
          "name": "stdout",
          "text": [
            "The sentence is classified as: Spam\n"
          ]
        }
      ]
    },
    {
      "cell_type": "code",
      "source": [
        "# Non-Spam Formal Invitation\n",
        "sentence_8 = \"You are cordially invited to the annual gala hosted by [Company Name]. Please RSVP by [Date].\"\n",
        "test_sentence = [sentence_8]\n",
        "test_sentence_tfidf = tfidf_vectorizer.transform(test_sentence)\n",
        "predicted_label = clf.predict(test_sentence_tfidf)\n",
        "print(f\"The sentence is classified as: {'Spam' if predicted_label[0] == 1 else 'Not Spam'}\")"
      ],
      "metadata": {
        "id": "Mg6cg1dKds8L",
        "colab": {
          "base_uri": "https://localhost:8080/"
        },
        "outputId": "b061858f-ef13-4714-eb74-632e3dff4b8e"
      },
      "execution_count": null,
      "outputs": [
        {
          "output_type": "stream",
          "name": "stdout",
          "text": [
            "The sentence is classified as: Not Spam\n"
          ]
        }
      ]
    },
    {
      "cell_type": "code",
      "source": [
        "# Spam with Urgency and Fear Tactics\n",
        "sentence_9 = \"Alert: Your email account will be permanently disabled unless you log in through the following link within 24 hours.\"\n",
        "test_sentence = [sentence_9]\n",
        "test_sentence_tfidf = tfidf_vectorizer.transform(test_sentence)\n",
        "predicted_label = clf.predict(test_sentence_tfidf)\n",
        "print(f\"The sentence is classified as: {'Spam' if predicted_label[0] == 1 else 'Not Spam'}\")"
      ],
      "metadata": {
        "id": "PNvfUXwWd20a",
        "colab": {
          "base_uri": "https://localhost:8080/"
        },
        "outputId": "56e6c61e-98ad-4ef8-d7ba-43e53e21d5e9"
      },
      "execution_count": null,
      "outputs": [
        {
          "output_type": "stream",
          "name": "stdout",
          "text": [
            "The sentence is classified as: Spam\n"
          ]
        }
      ]
    },
    {
      "cell_type": "code",
      "source": [
        "# Multilingual Spam Message\n",
        "sentence_10 =  \"¡Felicidades! Has sido seleccionado para recibir un premio exclusivo. Haz clic aquí para reclamar tu premio ahora.\"\n",
        "test_sentence = [sentence_10]\n",
        "test_sentence_tfidf = tfidf_vectorizer.transform(test_sentence)\n",
        "predicted_label = clf.predict(test_sentence_tfidf)\n",
        "print(f\"The sentence is classified as: {'Spam' if predicted_label[0] == 1 else 'Not Spam'}\")"
      ],
      "metadata": {
        "id": "DRGSFwBYd-EI",
        "colab": {
          "base_uri": "https://localhost:8080/"
        },
        "outputId": "1680632e-aeba-431a-8e40-1471f3e0284f"
      },
      "execution_count": null,
      "outputs": [
        {
          "output_type": "stream",
          "name": "stdout",
          "text": [
            "The sentence is classified as: Spam\n"
          ]
        }
      ]
    }
  ],
  "metadata": {
    "colab": {
      "provenance": []
    },
    "kernelspec": {
      "display_name": "Python 3",
      "name": "python3"
    },
    "language_info": {
      "name": "python"
    }
  },
  "nbformat": 4,
  "nbformat_minor": 0
}